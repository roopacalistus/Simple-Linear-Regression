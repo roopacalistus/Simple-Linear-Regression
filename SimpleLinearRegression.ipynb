{
 "cells": [
  {
   "cell_type": "code",
   "execution_count": 6,
   "id": "6f333ebd",
   "metadata": {},
   "outputs": [
    {
     "data": {
      "image/png": "[encoded data removed]",
      "text/plain": [
       "<Figure size 432x288 with 1 Axes>"
      ]
     },
     "metadata": {
      "needs_background": "light"
     },
     "output_type": "display_data"
    }
   ],
   "source": [
    "import matplotlib.pyplot as plt\n",
    "x=[[6],[8],[10],[14],[18],[21]]\n",
    "y=[[7],[9],[13],[17.5],[18],[24]]\n",
    "\n",
    "plt.figure()\n",
    "plt.title('Pizza Price Statistics')\n",
    "plt.xlabel('Diameter (inches)')\n",
    "plt.ylabel('Price (dollars)')\n",
    "plt.plot(x,y,'.')\n",
    "plt.axis([0,25,0,25])\n",
    "plt.grid(True)\n",
    "plt.show()\n"
   ]
  },
  {
   "cell_type": "code",
   "execution_count": 7,
   "id": "958b7816",
   "metadata": {},
   "outputs": [
    {
     "data": {
      "image/png": "[encoded data removed]",
      "text/plain": [
       "<Figure size 432x288 with 1 Axes>"
      ]
     },
     "metadata": {
      "needs_background": "light"
     },
     "output_type": "display_data"
    },
    {
     "name": "stdout",
     "output_type": "stream",
     "text": [
      "Predicted price for a pizza of diameter 21 =  [[22.46767241]]\n"
     ]
    }
   ],
   "source": [
    "from sklearn.linear_model import LinearRegression\n",
    "\n",
    "x=[[6],[8],[10],[14],[18]]\n",
    "y=[[7],[9],[13],[17.5],[18]]\n",
    "model = LinearRegression()\n",
    "model.fit(x,y)\n",
    " \n",
    "plt.figure()\n",
    "plt.title('Pizza Price Statistics')\n",
    "plt.xlabel('Diameter (inches)')\n",
    "plt.ylabel('Price (dollars)')\n",
    "plt.plot(x,y,'.')\n",
    "plt.axis([0,25,0,25])\n",
    "plt.grid(True)\n",
    "plt.show()\n",
    "\n",
    "print(\"Predicted price for a pizza of diameter 21 = \",model.predict([[21]]))"
   ]
  },
  {
   "cell_type": "code",
   "execution_count": 8,
   "id": "1e7013df",
   "metadata": {},
   "outputs": [
    {
     "name": "stdout",
     "output_type": "stream",
     "text": [
      "Residual sum of squares =  1.7495689655172406\n",
      "Variance =  23.2\n",
      "Co-variance =  22.650000000000002\n",
      "X_Mean =  11.2\n",
      "Y_Mean =  12.9\n"
     ]
    }
   ],
   "source": [
    "import numpy as np\n",
    "\n",
    "\n",
    "print(\"Residual sum of squares = \",np.mean((model.predict(x)-y)**2))\n",
    "print(\"Variance = \",np.var([6,8,10,14,18],ddof=1))\n",
    "print(\"Co-variance = \",np.cov([6,8,10,14,18],[7,9,13,17.5,18])[0][1])\n",
    "print(\"X_Mean = \",np.mean(x))\n",
    "print(\"Y_Mean = \",np.mean(y))\n"
   ]
  },
  {
   "cell_type": "code",
   "execution_count": 9,
   "id": "0cb8e6a4",
   "metadata": {},
   "outputs": [
    {
     "name": "stdout",
     "output_type": "stream",
     "text": [
      "Score =  0.6620052929422553\n"
     ]
    }
   ],
   "source": [
    "\n",
    "x_test=[[8],[9],[11],[16],[12]]\n",
    "y_test=[[11],[8.5],[15],[18],[11]]\n",
    "print(\"Score = \",model.score(x_test,y_test))"
   ]
  },
  {
   "cell_type": "code",
   "execution_count": null,
   "id": "f3147a23",
   "metadata": {},
   "outputs": [],
   "source": []
  }
 ],
 "metadata": {
  "kernelspec": {
   "display_name": "Python 3 (ipykernel)",
   "language": "python",
   "name": "python3"
  },
  "language_info": {
   "codemirror_mode": {
    "name": "ipython",
    "version": 3
   },
   "file_extension": ".py",
   "mimetype": "text/x-python",
   "name": "python",
   "nbconvert_exporter": "python",
   "pygments_lexer": "ipython3",
   "version": "3.9.12"
  }
 },
 "nbformat": 4,
 "nbformat_minor": 5
}
